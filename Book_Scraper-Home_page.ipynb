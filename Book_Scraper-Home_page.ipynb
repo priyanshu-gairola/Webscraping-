{
 "cells": [
  {
   "cell_type": "code",
   "execution_count": 2,
   "id": "39261905-dc1d-41dd-96d4-73303cc7db95",
   "metadata": {},
   "outputs": [],
   "source": [
    "import requests\n",
    "from bs4 import BeautifulSoup\n",
    "\n"
   ]
  },
  {
   "cell_type": "code",
   "execution_count": 2,
   "id": "4f15f084-a4e0-4b24-8f17-73d95a19b8bf",
   "metadata": {},
   "outputs": [],
   "source": [
    "res = requests.get(link)\n",
    "\n",
    "soup = BeautifulSoup(res.text, 'html.parser')"
   ]
  },
  {
   "cell_type": "code",
   "execution_count": 27,
   "id": "a74fdb2a-088f-4f1c-8c07-ca32d1ddf3e5",
   "metadata": {},
   "outputs": [],
   "source": [
    "data=[]\n",
    "\n",
    "for sp in soup.find_all('li', class_= 'col-xs-6 col-sm-4 col-md-3 col-lg-3'):\n",
    "    \n",
    "    book_title=sp.find_all('a')[-1].get('title')\n",
    "    book_link=\"https://books.toscrape.com/catalogue/\"+sp.find_all('a')[-1].get('href')\n",
    "    image_link= 'https://books.toscrape.com/'+sp.find('img').get('src')\n",
    "    rating=sp.find('p').get('class')[-1]\n",
    "    price=sp.find('p',class_=\"price_color\").text[1:]\n",
    "    availability=sp.find('p',class_=\"instock availability\").text.strip()\n",
    "\n",
    "    \n",
    "    data.append([book_title,price,rating,availability,book_link,image_link])\n",
    "    "
   ]
  },
  {
   "cell_type": "code",
   "execution_count": 30,
   "id": "f33bc597-88d9-438c-8e69-1f2c0292bd38",
   "metadata": {},
   "outputs": [
    {
     "data": {
      "text/plain": [
       "20"
      ]
     },
     "execution_count": 30,
     "metadata": {},
     "output_type": "execute_result"
    }
   ],
   "source": [
    "len(data)"
   ]
  },
  {
   "cell_type": "code",
   "execution_count": 4,
   "id": "6194cbff-ccb6-43a2-a480-a3aa41755663",
   "metadata": {},
   "outputs": [
    {
     "name": "stderr",
     "output_type": "stream",
     "text": [
      "\n",
      "KeyboardInterrupt\n",
      "\n"
     ]
    }
   ],
   "source": [
    "data=[]\n",
    "\n",
    "for page in range(1,51):\n",
    "    \n",
    "\n",
    "    link = 'https://books.toscrape.com/catalogue/page-'+str(page)+'.html'\n",
    "    res = requests.get(link)\n",
    "\n",
    "    soup = BeautifulSoup(res.text, 'html.parser')\n",
    "\n",
    "    \n",
    "    \n",
    "\n",
    "    for sp in soup.find_all('li', class_= 'col-xs-6 col-sm-4 col-md-3 col-lg-3'):\n",
    "    \n",
    "        book_title=sp.find_all('a')[-1].get('title')\n",
    "        book_link=\"https://books.toscrape.com/catalogue/\"+sp.find_all('a')[-1].get('href')\n",
    "        image_link= 'https://books.toscrape.com/'+sp.find('img').get('src')\n",
    "        rating=sp.find('p').get('class')[-1]\n",
    "        price=sp.find('p',class_=\"price_color\").text[1:]\n",
    "        availability=sp.find('p',class_=\"instock availability\").text.strip()\n",
    "\n",
    "    \n",
    "        data.append([book_title,price,rating,availability,book_link,image_link])\n",
    "    "
   ]
  },
  {
   "cell_type": "code",
   "execution_count": 35,
   "id": "991e482c-6ea6-4d0f-b2d5-6715debfdea1",
   "metadata": {},
   "outputs": [
    {
     "data": {
      "text/plain": [
       "420"
      ]
     },
     "execution_count": 35,
     "metadata": {},
     "output_type": "execute_result"
    }
   ],
   "source": [
    "len(data)"
   ]
  },
  {
   "cell_type": "code",
   "execution_count": 39,
   "id": "e5738835-9273-40c5-b364-654c95e6afbc",
   "metadata": {},
   "outputs": [
    {
     "data": {
      "text/plain": [
       "['Off the Hook (Fishing for Trouble #1)',\n",
       " '£47.67',\n",
       " 'Three',\n",
       " 'In stock',\n",
       " 'https://books.toscrape.com/catalogue/off-the-hook-fishing-for-trouble-1_601/index.html',\n",
       " 'https://books.toscrape.com/../media/cache/1d/78/1d78fe226e1adb9cb591fa21f8a9bf68.jpg']"
      ]
     },
     "execution_count": 39,
     "metadata": {},
     "output_type": "execute_result"
    }
   ],
   "source": [
    "data[419]"
   ]
  },
  {
   "cell_type": "code",
   "execution_count": 5,
   "id": "dd4c7b8a-7708-44a0-96ca-4df36fc67b18",
   "metadata": {},
   "outputs": [
    {
     "name": "stderr",
     "output_type": "stream",
     "text": [
      "100%|██████████| 50/50 [01:06<00:00,  1.33s/it]\n"
     ]
    }
   ],
   "source": [
    "import requests\n",
    "import pandas as pd\n",
    "from tqdm import tqdm\n",
    "from bs4 import BeautifulSoup\n",
    "\n",
    "data = []\n",
    "\n",
    "for i in tqdm(range(1,51)):        # Going through each page one by one\n",
    "\n",
    "    link = 'https://books.toscrape.com/catalogue/page-' + str(i) + '.html'     # Creating link for each page\n",
    "\n",
    "    res = requests.get(link)                                                   # Sending Request to the link\n",
    "    soup = BeautifulSoup(res.text, 'html.parser')                              # Creating a soup for that page\n",
    "    \n",
    "    \n",
    "    for sp in soup.find_all('li', class_= 'col-xs-6 col-sm-4 col-md-3 col-lg-3'):\n",
    "    \n",
    "        img_link   = 'https://books.toscrape.com/' + sp.find('img').get('src')[3:]\n",
    "        book_link  = 'https://books.toscrape.com/catalogue/' + sp.find_all('a')[-1].get('href')\n",
    "        title      = sp.find_all('a')[-1].get('title')\n",
    "        rating     = sp.find('p').get('class')[-1]\n",
    "        price      = sp.find('p',class_ = 'price_color').text[2:]\n",
    "        stock      = sp.find('p', class_ = 'instock availability').text.strip()\n",
    "\n",
    "        data.append([title, rating, price, stock, book_link, img_link])        # Saving scraped data in a list\n",
    "\n",
    "\n",
    "df = pd.DataFrame(data, columns = ['title', 'rating', 'price', 'stock', 'book_link','img_link'])\n",
    "df.to_csv('books.csv', index = False)\n"
   ]
  },
  {
   "cell_type": "markdown",
   "id": "34819d26-74dd-41a0-b1e2-54e6645aa1c5",
   "metadata": {},
   "source": [
    "NOW, EXTRACTING DETAILS OF EACH BOOKM ALSO FROM YTHEIR LINK IN CSV FILE"
   ]
  },
  {
   "cell_type": "code",
   "execution_count": 6,
   "id": "bb0d6b6c-9907-483d-a826-3147e577710f",
   "metadata": {},
   "outputs": [
    {
     "name": "stderr",
     "output_type": "stream",
     "text": [
      "100%|██████████| 1000/1000 [23:36<00:00,  1.42s/it] \n"
     ]
    }
   ],
   "source": [
    "data = []\n",
    "\n",
    "for link in tqdm(df['book_link']):\n",
    "    \n",
    "    res = requests.get(link)\n",
    "    soup = BeautifulSoup(res.text, 'html.parser')\n",
    "    \n",
    "    typ = soup.find('ul', class_ = 'breadcrumb').find_all('a')[2].text\n",
    "    \n",
    "    temp = soup.find('table', class_ = 'table table-striped').find_all('td')\n",
    "    \n",
    "    upc      = temp[0].text\n",
    "    price_x  = temp[2].text[2:]\n",
    "    price_i  = temp[3].text[2:]\n",
    "    tax      = temp[4].text[2:]\n",
    "    qn       = temp[5].text\n",
    "    reviews  = temp[6].text\n",
    "    \n",
    "    data.append([typ, price_x, price_i, tax, qn, upc, reviews])"
   ]
  },
  {
   "cell_type": "code",
   "execution_count": 7,
   "id": "f7a3ab1d-f8f4-44c3-bd63-614334921b31",
   "metadata": {},
   "outputs": [],
   "source": [
    "df = pd.DataFrame(data, columns = ['category','price_e_tax', 'price_i_tax', 'tax', 'quantity', 'upc', 'reviews'])\n",
    "df.to_csv('data.csv', index = False)\n"
   ]
  },
  {
   "cell_type": "markdown",
   "id": "6c760e64-6ffa-42f5-8aee-ddeea7f219e1",
   "metadata": {},
   "source": [
    "COMBINING DATASETS\n"
   ]
  },
  {
   "cell_type": "code",
   "execution_count": 8,
   "id": "2779e6f2-85ef-4f6b-ac5f-7caa4a632538",
   "metadata": {},
   "outputs": [],
   "source": [
    "df_1 = pd.read_csv('books.csv')\n",
    "df_2 = pd.read_csv('data.csv')\n",
    "\n",
    "df = pd.DataFrame()\n",
    "\n",
    "df['title']         = df_1['title']\n",
    "df['upc']           = df_2['upc']\n",
    "df['category']      = df_2['category']\n",
    "df['price_e_tax']   = df_2['price_e_tax']\n",
    "df['price_i_tax']   = df_2['price_i_tax']\n",
    "df['tax']           = df_2['tax']\n",
    "df['rating']        = df_1['rating']\n",
    "df['reviews']       = df_2['reviews']\n",
    "df['quantity']      = df_2['quantity']\n",
    "df['stock']         = df_1['stock']\n",
    "\n",
    "df['book_link']     = df_1['book_link']\n",
    "df['img_link']      = df_1['img_link']\n",
    "\n"
   ]
  },
  {
   "cell_type": "code",
   "execution_count": 9,
   "id": "2b9bf188-ac45-4ef3-8107-7382190c96b8",
   "metadata": {},
   "outputs": [],
   "source": [
    "df.to_csv('final.csv', index = False)"
   ]
  },
  {
   "cell_type": "code",
   "execution_count": null,
   "id": "1ed9649b-95a9-4c73-a595-011bbacde041",
   "metadata": {},
   "outputs": [],
   "source": []
  }
 ],
 "metadata": {
  "kernelspec": {
   "display_name": "Python 3 (ipykernel)",
   "language": "python",
   "name": "python3"
  },
  "language_info": {
   "codemirror_mode": {
    "name": "ipython",
    "version": 3
   },
   "file_extension": ".py",
   "mimetype": "text/x-python",
   "name": "python",
   "nbconvert_exporter": "python",
   "pygments_lexer": "ipython3",
   "version": "3.11.5"
  }
 },
 "nbformat": 4,
 "nbformat_minor": 5
}
